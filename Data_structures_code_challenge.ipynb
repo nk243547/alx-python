{
 "cells": [
  {
   "cell_type": "code",
   "execution_count": 1,
   "id": "73908596-05e2-41d2-9c05-8fea78e1e8c7",
   "metadata": {},
   "outputs": [],
   "source": [
    "### START FUNCTION\n",
    "def vehicle_type(input):\n",
    "    vehicle_type = input\n",
    "    return vehicle_type\n",
    "### END FUNCTION"
   ]
  },
  {
   "cell_type": "code",
   "execution_count": 2,
   "id": "c41613e4-5320-46e1-9a18-b1a7ec4252ad",
   "metadata": {},
   "outputs": [
    {
     "data": {
      "text/plain": [
       "'tractor'"
      ]
     },
     "execution_count": 2,
     "metadata": {},
     "output_type": "execute_result"
    }
   ],
   "source": [
    "# input 1: \"tractor\"\n",
    "vehicle_type(\"tractor\")"
   ]
  },
  {
   "cell_type": "code",
   "execution_count": 3,
   "id": "75bc5427-499e-41dd-b259-028837dfffcd",
   "metadata": {},
   "outputs": [
    {
     "data": {
      "text/plain": [
       "'car'"
      ]
     },
     "execution_count": 3,
     "metadata": {},
     "output_type": "execute_result"
    }
   ],
   "source": [
    "# input 2: \"car\"\n",
    "vehicle_type(\"car\")"
   ]
  },
  {
   "cell_type": "code",
   "execution_count": 4,
   "id": "46d92857-c7a9-4216-b99c-161a6feb2270",
   "metadata": {},
   "outputs": [
    {
     "data": {
      "text/plain": [
       "'harvester'"
      ]
     },
     "execution_count": 4,
     "metadata": {},
     "output_type": "execute_result"
    }
   ],
   "source": [
    "# Hidden input: \"harvester\"\n",
    "vehicle_type(\"harvester\")"
   ]
  },
  {
   "cell_type": "code",
   "execution_count": null,
   "id": "5fbb5a78-6f14-4a4e-ae37-a0a4c29e0c07",
   "metadata": {},
   "outputs": [],
   "source": []
  }
 ],
 "metadata": {
  "kernelspec": {
   "display_name": "Python 3 (ipykernel)",
   "language": "python",
   "name": "python3"
  },
  "language_info": {
   "codemirror_mode": {
    "name": "ipython",
    "version": 3
   },
   "file_extension": ".py",
   "mimetype": "text/x-python",
   "name": "python",
   "nbconvert_exporter": "python",
   "pygments_lexer": "ipython3",
   "version": "3.12.11"
  }
 },
 "nbformat": 4,
 "nbformat_minor": 5
}
